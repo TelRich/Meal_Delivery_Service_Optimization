{
 "cells": [
  {
   "cell_type": "markdown",
   "id": "2f5929b9-9d9a-457a-99ab-be05f27176f9",
   "metadata": {},
   "source": [
    "## 💾 The data\n",
    "\n",
    "Your client has provided you with almost three years of order information for each of their 77 fulfillment centers:\n",
    "\n",
    "- \"week\" - week (1 - 145)\n",
    "- \"center_id\" - id of the fulfillment center\n",
    "- \"city_code\" - city identifier\n",
    "- \"region_code\" - region identifier\n",
    "- \"center_type\" - there are three types of centers: A, B, and C\n",
    "- \"op_area\" - the size of the area serviced by the fulfillment center\n",
    "- \"meal_id\" - each meal has a unique id\n",
    "- \"category\" - food category (beverages, pasta, rice, etc.)\n",
    "- \"cuisine\" - the type of cuisine for each meal\n",
    "- \"checkout_price\" - the price the customer pays (including discounts, promotions, etc.)\n",
    "- \"base_price\" - list price for the meal\n",
    "- \"emailer\" - 1 if there was an email promotion for the meal, 0 otherwise\n",
    "- \"featured\" - 1 if the website featured the meal, 0 otherwise\n",
    "- \"orders\" - number of orders for that week for that meal id"
   ]
  },
  {
   "cell_type": "code",
   "execution_count": 55,
   "metadata": {},
   "outputs": [],
   "source": [
    "import plotly.express as px\n",
    "import plotly.io as pio\n",
    "\n",
    "pio.templates.default = 'plotly_dark'"
   ]
  },
  {
   "cell_type": "code",
   "execution_count": 149,
   "metadata": {},
   "outputs": [
    {
     "data": {
      "text/html": [
       "<div>\n",
       "<style scoped>\n",
       "    .dataframe tbody tr th:only-of-type {\n",
       "        vertical-align: middle;\n",
       "    }\n",
       "\n",
       "    .dataframe tbody tr th {\n",
       "        vertical-align: top;\n",
       "    }\n",
       "\n",
       "    .dataframe thead th {\n",
       "        text-align: right;\n",
       "    }\n",
       "</style>\n",
       "<table border=\"1\" class=\"dataframe\">\n",
       "  <thead>\n",
       "    <tr style=\"text-align: right;\">\n",
       "      <th></th>\n",
       "      <th>id</th>\n",
       "      <th>week</th>\n",
       "      <th>center_id</th>\n",
       "      <th>city_code</th>\n",
       "      <th>region_code</th>\n",
       "      <th>center_type</th>\n",
       "      <th>op_area</th>\n",
       "      <th>meal_id</th>\n",
       "      <th>category</th>\n",
       "      <th>cuisine</th>\n",
       "      <th>checkout_price</th>\n",
       "      <th>base_price</th>\n",
       "      <th>emailer</th>\n",
       "      <th>featured</th>\n",
       "      <th>orders</th>\n",
       "    </tr>\n",
       "  </thead>\n",
       "  <tbody>\n",
       "    <tr>\n",
       "      <th>0</th>\n",
       "      <td>1491015</td>\n",
       "      <td>6</td>\n",
       "      <td>67</td>\n",
       "      <td>638</td>\n",
       "      <td>56</td>\n",
       "      <td>B</td>\n",
       "      <td>7.0</td>\n",
       "      <td>2290</td>\n",
       "      <td>Rice Bowl</td>\n",
       "      <td>Indian</td>\n",
       "      <td>157.14</td>\n",
       "      <td>311.43</td>\n",
       "      <td>0</td>\n",
       "      <td>0</td>\n",
       "      <td>5075</td>\n",
       "    </tr>\n",
       "    <tr>\n",
       "      <th>1</th>\n",
       "      <td>1440194</td>\n",
       "      <td>40</td>\n",
       "      <td>92</td>\n",
       "      <td>526</td>\n",
       "      <td>34</td>\n",
       "      <td>C</td>\n",
       "      <td>2.9</td>\n",
       "      <td>2704</td>\n",
       "      <td>Other Snacks</td>\n",
       "      <td>Thai</td>\n",
       "      <td>291.03</td>\n",
       "      <td>291.03</td>\n",
       "      <td>0</td>\n",
       "      <td>0</td>\n",
       "      <td>41</td>\n",
       "    </tr>\n",
       "    <tr>\n",
       "      <th>2</th>\n",
       "      <td>1415786</td>\n",
       "      <td>2</td>\n",
       "      <td>81</td>\n",
       "      <td>526</td>\n",
       "      <td>34</td>\n",
       "      <td>A</td>\n",
       "      <td>4.0</td>\n",
       "      <td>1109</td>\n",
       "      <td>Rice Bowl</td>\n",
       "      <td>Indian</td>\n",
       "      <td>258.99</td>\n",
       "      <td>294.94</td>\n",
       "      <td>1</td>\n",
       "      <td>0</td>\n",
       "      <td>379</td>\n",
       "    </tr>\n",
       "    <tr>\n",
       "      <th>3</th>\n",
       "      <td>1074662</td>\n",
       "      <td>12</td>\n",
       "      <td>152</td>\n",
       "      <td>576</td>\n",
       "      <td>34</td>\n",
       "      <td>B</td>\n",
       "      <td>4.0</td>\n",
       "      <td>1109</td>\n",
       "      <td>Rice Bowl</td>\n",
       "      <td>Indian</td>\n",
       "      <td>268.69</td>\n",
       "      <td>268.69</td>\n",
       "      <td>0</td>\n",
       "      <td>0</td>\n",
       "      <td>690</td>\n",
       "    </tr>\n",
       "    <tr>\n",
       "      <th>4</th>\n",
       "      <td>1198250</td>\n",
       "      <td>116</td>\n",
       "      <td>10</td>\n",
       "      <td>590</td>\n",
       "      <td>56</td>\n",
       "      <td>B</td>\n",
       "      <td>6.3</td>\n",
       "      <td>1207</td>\n",
       "      <td>Beverages</td>\n",
       "      <td>Continental</td>\n",
       "      <td>354.05</td>\n",
       "      <td>493.76</td>\n",
       "      <td>0</td>\n",
       "      <td>0</td>\n",
       "      <td>135</td>\n",
       "    </tr>\n",
       "    <tr>\n",
       "      <th>...</th>\n",
       "      <td>...</td>\n",
       "      <td>...</td>\n",
       "      <td>...</td>\n",
       "      <td>...</td>\n",
       "      <td>...</td>\n",
       "      <td>...</td>\n",
       "      <td>...</td>\n",
       "      <td>...</td>\n",
       "      <td>...</td>\n",
       "      <td>...</td>\n",
       "      <td>...</td>\n",
       "      <td>...</td>\n",
       "      <td>...</td>\n",
       "      <td>...</td>\n",
       "      <td>...</td>\n",
       "    </tr>\n",
       "    <tr>\n",
       "      <th>228269</th>\n",
       "      <td>1081617</td>\n",
       "      <td>65</td>\n",
       "      <td>34</td>\n",
       "      <td>615</td>\n",
       "      <td>34</td>\n",
       "      <td>B</td>\n",
       "      <td>4.2</td>\n",
       "      <td>2126</td>\n",
       "      <td>Pasta</td>\n",
       "      <td>Italian</td>\n",
       "      <td>551.93</td>\n",
       "      <td>553.93</td>\n",
       "      <td>0</td>\n",
       "      <td>0</td>\n",
       "      <td>27</td>\n",
       "    </tr>\n",
       "    <tr>\n",
       "      <th>228270</th>\n",
       "      <td>1344009</td>\n",
       "      <td>19</td>\n",
       "      <td>149</td>\n",
       "      <td>478</td>\n",
       "      <td>77</td>\n",
       "      <td>A</td>\n",
       "      <td>2.4</td>\n",
       "      <td>2139</td>\n",
       "      <td>Beverages</td>\n",
       "      <td>Indian</td>\n",
       "      <td>456.93</td>\n",
       "      <td>454.93</td>\n",
       "      <td>0</td>\n",
       "      <td>0</td>\n",
       "      <td>26</td>\n",
       "    </tr>\n",
       "    <tr>\n",
       "      <th>228271</th>\n",
       "      <td>1061895</td>\n",
       "      <td>116</td>\n",
       "      <td>66</td>\n",
       "      <td>648</td>\n",
       "      <td>34</td>\n",
       "      <td>A</td>\n",
       "      <td>4.1</td>\n",
       "      <td>2581</td>\n",
       "      <td>Pizza</td>\n",
       "      <td>Continental</td>\n",
       "      <td>463.69</td>\n",
       "      <td>639.23</td>\n",
       "      <td>1</td>\n",
       "      <td>1</td>\n",
       "      <td>527</td>\n",
       "    </tr>\n",
       "    <tr>\n",
       "      <th>228272</th>\n",
       "      <td>1123977</td>\n",
       "      <td>48</td>\n",
       "      <td>73</td>\n",
       "      <td>576</td>\n",
       "      <td>34</td>\n",
       "      <td>A</td>\n",
       "      <td>4.0</td>\n",
       "      <td>1962</td>\n",
       "      <td>Pizza</td>\n",
       "      <td>Continental</td>\n",
       "      <td>641.23</td>\n",
       "      <td>640.23</td>\n",
       "      <td>0</td>\n",
       "      <td>0</td>\n",
       "      <td>176</td>\n",
       "    </tr>\n",
       "    <tr>\n",
       "      <th>228273</th>\n",
       "      <td>1109905</td>\n",
       "      <td>71</td>\n",
       "      <td>186</td>\n",
       "      <td>649</td>\n",
       "      <td>34</td>\n",
       "      <td>A</td>\n",
       "      <td>3.4</td>\n",
       "      <td>2290</td>\n",
       "      <td>Rice Bowl</td>\n",
       "      <td>Indian</td>\n",
       "      <td>263.87</td>\n",
       "      <td>262.87</td>\n",
       "      <td>0</td>\n",
       "      <td>0</td>\n",
       "      <td>486</td>\n",
       "    </tr>\n",
       "  </tbody>\n",
       "</table>\n",
       "<p>228274 rows × 15 columns</p>\n",
       "</div>"
      ],
      "text/plain": [
       "             id  week  center_id  city_code  region_code center_type  op_area  \\\n",
       "0       1491015     6         67        638           56           B      7.0   \n",
       "1       1440194    40         92        526           34           C      2.9   \n",
       "2       1415786     2         81        526           34           A      4.0   \n",
       "3       1074662    12        152        576           34           B      4.0   \n",
       "4       1198250   116         10        590           56           B      6.3   \n",
       "...         ...   ...        ...        ...          ...         ...      ...   \n",
       "228269  1081617    65         34        615           34           B      4.2   \n",
       "228270  1344009    19        149        478           77           A      2.4   \n",
       "228271  1061895   116         66        648           34           A      4.1   \n",
       "228272  1123977    48         73        576           34           A      4.0   \n",
       "228273  1109905    71        186        649           34           A      3.4   \n",
       "\n",
       "        meal_id      category      cuisine  checkout_price  base_price  \\\n",
       "0          2290     Rice Bowl       Indian          157.14      311.43   \n",
       "1          2704  Other Snacks         Thai          291.03      291.03   \n",
       "2          1109     Rice Bowl       Indian          258.99      294.94   \n",
       "3          1109     Rice Bowl       Indian          268.69      268.69   \n",
       "4          1207     Beverages  Continental          354.05      493.76   \n",
       "...         ...           ...          ...             ...         ...   \n",
       "228269     2126         Pasta      Italian          551.93      553.93   \n",
       "228270     2139     Beverages       Indian          456.93      454.93   \n",
       "228271     2581         Pizza  Continental          463.69      639.23   \n",
       "228272     1962         Pizza  Continental          641.23      640.23   \n",
       "228273     2290     Rice Bowl       Indian          263.87      262.87   \n",
       "\n",
       "        emailer  featured  orders  \n",
       "0             0         0    5075  \n",
       "1             0         0      41  \n",
       "2             1         0     379  \n",
       "3             0         0     690  \n",
       "4             0         0     135  \n",
       "...         ...       ...     ...  \n",
       "228269        0         0      27  \n",
       "228270        0         0      26  \n",
       "228271        1         1     527  \n",
       "228272        0         0     176  \n",
       "228273        0         0     486  \n",
       "\n",
       "[228274 rows x 15 columns]"
      ]
     },
     "execution_count": 149,
     "metadata": {},
     "output_type": "execute_result"
    }
   ],
   "source": [
    "import pandas as pd\n",
    "deliveries = pd.read_csv('data/meal_deliveries.csv')\n",
    "deliveries"
   ]
  },
  {
   "cell_type": "code",
   "execution_count": 150,
   "metadata": {},
   "outputs": [
    {
     "data": {
      "text/plain": [
       "0"
      ]
     },
     "execution_count": 150,
     "metadata": {},
     "output_type": "execute_result"
    }
   ],
   "source": [
    "deliveries.duplicated().sum()"
   ]
  },
  {
   "cell_type": "code",
   "execution_count": 151,
   "metadata": {},
   "outputs": [
    {
     "name": "stdout",
     "output_type": "stream",
     "text": [
      "<class 'pandas.core.frame.DataFrame'>\n",
      "RangeIndex: 228274 entries, 0 to 228273\n",
      "Data columns (total 15 columns):\n",
      " #   Column          Non-Null Count   Dtype  \n",
      "---  ------          --------------   -----  \n",
      " 0   id              228274 non-null  int64  \n",
      " 1   week            228274 non-null  int64  \n",
      " 2   center_id       228274 non-null  int64  \n",
      " 3   city_code       228274 non-null  int64  \n",
      " 4   region_code     228274 non-null  int64  \n",
      " 5   center_type     228274 non-null  object \n",
      " 6   op_area         228274 non-null  float64\n",
      " 7   meal_id         228274 non-null  int64  \n",
      " 8   category        228274 non-null  object \n",
      " 9   cuisine         228274 non-null  object \n",
      " 10  checkout_price  228274 non-null  float64\n",
      " 11  base_price      228274 non-null  float64\n",
      " 12  emailer         228274 non-null  int64  \n",
      " 13  featured        228274 non-null  int64  \n",
      " 14  orders          228274 non-null  int64  \n",
      "dtypes: float64(3), int64(9), object(3)\n",
      "memory usage: 26.1+ MB\n"
     ]
    }
   ],
   "source": [
    "deliveries.info()"
   ]
  },
  {
   "cell_type": "code",
   "execution_count": 152,
   "metadata": {},
   "outputs": [
    {
     "data": {
      "text/plain": [
       "14"
      ]
     },
     "execution_count": 152,
     "metadata": {},
     "output_type": "execute_result"
    }
   ],
   "source": [
    "category = deliveries.category.nunique()\n",
    "category"
   ]
  },
  {
   "cell_type": "code",
   "execution_count": 153,
   "metadata": {},
   "outputs": [
    {
     "data": {
      "text/plain": [
       "4"
      ]
     },
     "execution_count": 153,
     "metadata": {},
     "output_type": "execute_result"
    }
   ],
   "source": [
    "cuisine = deliveries.cuisine.nunique()\n",
    "cuisine"
   ]
  },
  {
   "cell_type": "code",
   "execution_count": 158,
   "metadata": {},
   "outputs": [
    {
     "data": {
      "text/plain": [
       "array([56, 34, 71, 85, 77, 23, 93, 35], dtype=int64)"
      ]
     },
     "execution_count": 158,
     "metadata": {},
     "output_type": "execute_result"
    }
   ],
   "source": [
    "regions = deliveries.region_code.unique()\n",
    "regions"
   ]
  },
  {
   "cell_type": "code",
   "execution_count": 159,
   "metadata": {},
   "outputs": [
    {
     "data": {
      "text/plain": [
       "8"
      ]
     },
     "execution_count": 159,
     "metadata": {},
     "output_type": "execute_result"
    }
   ],
   "source": [
    "num_region = deliveries.region_code.nunique()\n",
    "num_region"
   ]
  },
  {
   "cell_type": "code",
   "execution_count": 155,
   "metadata": {},
   "outputs": [
    {
     "data": {
      "text/plain": [
       "51"
      ]
     },
     "execution_count": 155,
     "metadata": {},
     "output_type": "execute_result"
    }
   ],
   "source": [
    "deliveries.city_code.nunique()"
   ]
  },
  {
   "cell_type": "code",
   "execution_count": 156,
   "metadata": {},
   "outputs": [
    {
     "data": {
      "text/plain": [
       "77"
      ]
     },
     "execution_count": 156,
     "metadata": {},
     "output_type": "execute_result"
    }
   ],
   "source": [
    "deliveries.center_id.nunique()"
   ]
  },
  {
   "cell_type": "code",
   "execution_count": 160,
   "metadata": {},
   "outputs": [],
   "source": [
    "cat_count = deliveries.groupby(['region_code', 'category'],group_keys=True)['meal_id'].count()\n",
    "cat_count = cat_count.sort_values(ascending=False)\n",
    "\n",
    "for region in regions:\n",
    "    top3 = cat_count.loc[region][:5]\n",
    "    # fig = px.bar(x = top3.index, y= top3.values, width=700)\n",
    "    # fig.show()\n",
    "    "
   ]
  },
  {
   "cell_type": "code",
   "execution_count": 161,
   "metadata": {},
   "outputs": [
    {
     "data": {
      "text/plain": [
       "city_code\n",
       "526    8\n",
       "590    9\n",
       "Name: center_id, dtype: int64"
      ]
     },
     "execution_count": 161,
     "metadata": {},
     "output_type": "execute_result"
    }
   ],
   "source": [
    "# Cities with more than three fulfillment centers\n",
    "cities_fulfilmt_center  = deliveries.groupby('city_code')['center_id'].nunique() \n",
    "cities_fulfilmt_center[cities_fulfilmt_center>3]"
   ]
  },
  {
   "cell_type": "code",
   "execution_count": 162,
   "metadata": {},
   "outputs": [
    {
     "data": {
      "text/plain": [
       "262.1679078651095"
      ]
     },
     "execution_count": 162,
     "metadata": {},
     "output_type": "execute_result"
    }
   ],
   "source": [
    "deliveries['orders'].mean()"
   ]
  },
  {
   "cell_type": "code",
   "execution_count": 163,
   "metadata": {},
   "outputs": [
    {
     "data": {
      "text/plain": [
       "center_id\n",
       "41     120.395269\n",
       "91     121.168973\n",
       "149    130.156903\n",
       "74     132.017339\n",
       "161    146.520302\n",
       "186    153.308488\n",
       "162    153.391624\n",
       "139    157.783700\n",
       "77     164.544910\n",
       "55     165.246809\n",
       "Name: orders, dtype: float64"
      ]
     },
     "execution_count": 163,
     "metadata": {},
     "output_type": "execute_result"
    }
   ],
   "source": [
    "deliveries.groupby('center_id')['orders'].mean().sort_values()[:10]"
   ]
  },
  {
   "cell_type": "code",
   "execution_count": 164,
   "metadata": {},
   "outputs": [],
   "source": [
    "# Cities with single centers\n",
    "city461 = deliveries[deliveries['city_code'] == 461]\n",
    "city649 = deliveries[deliveries['city_code'] == 649]\n",
    "\n",
    "# Filter for the two cities with more than three centers\n",
    "city526 = deliveries[deliveries['city_code'] == 526]\n",
    "city590 = deliveries[deliveries['city_code'] == 590]"
   ]
  },
  {
   "cell_type": "code",
   "execution_count": 165,
   "metadata": {},
   "outputs": [
    {
     "data": {
      "text/plain": [
       "((21686, 15), (27497, 15), (2890, 15), (2804, 15))"
      ]
     },
     "execution_count": 165,
     "metadata": {},
     "output_type": "execute_result"
    }
   ],
   "source": [
    "city526.shape, city590.shape, city461.shape, city649.shape"
   ]
  },
  {
   "cell_type": "code",
   "execution_count": 166,
   "metadata": {},
   "outputs": [
    {
     "data": {
      "text/plain": [
       "center_id\n",
       "29     199.843008\n",
       "32     209.058824\n",
       "39     225.401998\n",
       "81     195.889602\n",
       "88     183.098971\n",
       "92     188.085884\n",
       "146    304.297955\n",
       "162    153.391624\n",
       "Name: orders, dtype: float64"
      ]
     },
     "execution_count": 166,
     "metadata": {},
     "output_type": "execute_result"
    }
   ],
   "source": [
    "city526.groupby('center_id')['orders'].mean()"
   ]
  },
  {
   "cell_type": "code",
   "execution_count": 167,
   "metadata": {},
   "outputs": [
    {
     "data": {
      "text/plain": [
       "center_id\n",
       "10     485.935392\n",
       "13     607.356519\n",
       "41     120.395269\n",
       "43     559.235865\n",
       "53     179.590840\n",
       "91     121.168973\n",
       "124    250.391756\n",
       "137    442.451818\n",
       "153    230.284160\n",
       "Name: orders, dtype: float64"
      ]
     },
     "execution_count": 167,
     "metadata": {},
     "output_type": "execute_result"
    }
   ],
   "source": [
    "city590.groupby('center_id')['orders'].mean()"
   ]
  },
  {
   "cell_type": "markdown",
   "metadata": {},
   "source": [
    "### 3"
   ]
  },
  {
   "cell_type": "code",
   "execution_count": 168,
   "metadata": {},
   "outputs": [],
   "source": [
    "deliveries.insert(12, 'gain_loss', deliveries['base_price'] - deliveries['checkout_price'])"
   ]
  },
  {
   "cell_type": "code",
   "execution_count": 169,
   "metadata": {},
   "outputs": [
    {
     "data": {
      "text/html": [
       "<div>\n",
       "<style scoped>\n",
       "    .dataframe tbody tr th:only-of-type {\n",
       "        vertical-align: middle;\n",
       "    }\n",
       "\n",
       "    .dataframe tbody tr th {\n",
       "        vertical-align: top;\n",
       "    }\n",
       "\n",
       "    .dataframe thead th {\n",
       "        text-align: right;\n",
       "    }\n",
       "</style>\n",
       "<table border=\"1\" class=\"dataframe\">\n",
       "  <thead>\n",
       "    <tr style=\"text-align: right;\">\n",
       "      <th></th>\n",
       "      <th>id</th>\n",
       "      <th>week</th>\n",
       "      <th>center_id</th>\n",
       "      <th>city_code</th>\n",
       "      <th>region_code</th>\n",
       "      <th>center_type</th>\n",
       "      <th>op_area</th>\n",
       "      <th>meal_id</th>\n",
       "      <th>category</th>\n",
       "      <th>cuisine</th>\n",
       "      <th>checkout_price</th>\n",
       "      <th>base_price</th>\n",
       "      <th>gain_loss</th>\n",
       "      <th>emailer</th>\n",
       "      <th>featured</th>\n",
       "      <th>orders</th>\n",
       "    </tr>\n",
       "  </thead>\n",
       "  <tbody>\n",
       "    <tr>\n",
       "      <th>0</th>\n",
       "      <td>1491015</td>\n",
       "      <td>6</td>\n",
       "      <td>67</td>\n",
       "      <td>638</td>\n",
       "      <td>56</td>\n",
       "      <td>B</td>\n",
       "      <td>7.0</td>\n",
       "      <td>2290</td>\n",
       "      <td>Rice Bowl</td>\n",
       "      <td>Indian</td>\n",
       "      <td>157.14</td>\n",
       "      <td>311.43</td>\n",
       "      <td>154.29</td>\n",
       "      <td>0</td>\n",
       "      <td>0</td>\n",
       "      <td>5075</td>\n",
       "    </tr>\n",
       "    <tr>\n",
       "      <th>1</th>\n",
       "      <td>1440194</td>\n",
       "      <td>40</td>\n",
       "      <td>92</td>\n",
       "      <td>526</td>\n",
       "      <td>34</td>\n",
       "      <td>C</td>\n",
       "      <td>2.9</td>\n",
       "      <td>2704</td>\n",
       "      <td>Other Snacks</td>\n",
       "      <td>Thai</td>\n",
       "      <td>291.03</td>\n",
       "      <td>291.03</td>\n",
       "      <td>0.00</td>\n",
       "      <td>0</td>\n",
       "      <td>0</td>\n",
       "      <td>41</td>\n",
       "    </tr>\n",
       "    <tr>\n",
       "      <th>2</th>\n",
       "      <td>1415786</td>\n",
       "      <td>2</td>\n",
       "      <td>81</td>\n",
       "      <td>526</td>\n",
       "      <td>34</td>\n",
       "      <td>A</td>\n",
       "      <td>4.0</td>\n",
       "      <td>1109</td>\n",
       "      <td>Rice Bowl</td>\n",
       "      <td>Indian</td>\n",
       "      <td>258.99</td>\n",
       "      <td>294.94</td>\n",
       "      <td>35.95</td>\n",
       "      <td>1</td>\n",
       "      <td>0</td>\n",
       "      <td>379</td>\n",
       "    </tr>\n",
       "    <tr>\n",
       "      <th>3</th>\n",
       "      <td>1074662</td>\n",
       "      <td>12</td>\n",
       "      <td>152</td>\n",
       "      <td>576</td>\n",
       "      <td>34</td>\n",
       "      <td>B</td>\n",
       "      <td>4.0</td>\n",
       "      <td>1109</td>\n",
       "      <td>Rice Bowl</td>\n",
       "      <td>Indian</td>\n",
       "      <td>268.69</td>\n",
       "      <td>268.69</td>\n",
       "      <td>0.00</td>\n",
       "      <td>0</td>\n",
       "      <td>0</td>\n",
       "      <td>690</td>\n",
       "    </tr>\n",
       "    <tr>\n",
       "      <th>4</th>\n",
       "      <td>1198250</td>\n",
       "      <td>116</td>\n",
       "      <td>10</td>\n",
       "      <td>590</td>\n",
       "      <td>56</td>\n",
       "      <td>B</td>\n",
       "      <td>6.3</td>\n",
       "      <td>1207</td>\n",
       "      <td>Beverages</td>\n",
       "      <td>Continental</td>\n",
       "      <td>354.05</td>\n",
       "      <td>493.76</td>\n",
       "      <td>139.71</td>\n",
       "      <td>0</td>\n",
       "      <td>0</td>\n",
       "      <td>135</td>\n",
       "    </tr>\n",
       "  </tbody>\n",
       "</table>\n",
       "</div>"
      ],
      "text/plain": [
       "        id  week  center_id  city_code  region_code center_type  op_area  \\\n",
       "0  1491015     6         67        638           56           B      7.0   \n",
       "1  1440194    40         92        526           34           C      2.9   \n",
       "2  1415786     2         81        526           34           A      4.0   \n",
       "3  1074662    12        152        576           34           B      4.0   \n",
       "4  1198250   116         10        590           56           B      6.3   \n",
       "\n",
       "   meal_id      category      cuisine  checkout_price  base_price  gain_loss  \\\n",
       "0     2290     Rice Bowl       Indian          157.14      311.43     154.29   \n",
       "1     2704  Other Snacks         Thai          291.03      291.03       0.00   \n",
       "2     1109     Rice Bowl       Indian          258.99      294.94      35.95   \n",
       "3     1109     Rice Bowl       Indian          268.69      268.69       0.00   \n",
       "4     1207     Beverages  Continental          354.05      493.76     139.71   \n",
       "\n",
       "   emailer  featured  orders  \n",
       "0        0         0    5075  \n",
       "1        0         0      41  \n",
       "2        1         0     379  \n",
       "3        0         0     690  \n",
       "4        0         0     135  "
      ]
     },
     "execution_count": 169,
     "metadata": {},
     "output_type": "execute_result"
    }
   ],
   "source": [
    "deliveries.head()"
   ]
  },
  {
   "cell_type": "code",
   "execution_count": 170,
   "metadata": {},
   "outputs": [
    {
     "data": {
      "text/plain": [
       "49533       1.00\n",
       "123473      1.00\n",
       "181634     -2.00\n",
       "116638      2.00\n",
       "153762      0.00\n",
       "111240     -1.00\n",
       "23714       1.00\n",
       "146083     -2.00\n",
       "136358     27.13\n",
       "111683     -2.00\n",
       "119052      0.00\n",
       "29398      85.36\n",
       "35676       0.00\n",
       "105265      1.00\n",
       "9374       -1.00\n",
       "70080      96.00\n",
       "216194    125.10\n",
       "27708       0.00\n",
       "108249      2.00\n",
       "31405     213.40\n",
       "59670      -1.00\n",
       "91454     146.50\n",
       "47554      -1.00\n",
       "117367      2.00\n",
       "170035     -2.00\n",
       "69453       1.00\n",
       "211873     32.04\n",
       "224762      1.00\n",
       "155260     29.13\n",
       "119653     -1.00\n",
       "Name: gain_loss, dtype: float64"
      ]
     },
     "execution_count": 170,
     "metadata": {},
     "output_type": "execute_result"
    }
   ],
   "source": [
    "deliveries['gain_loss'].sample(30)"
   ]
  },
  {
   "cell_type": "code",
   "execution_count": 134,
   "metadata": {},
   "outputs": [
    {
     "data": {
      "text/plain": [
       "emailer\n",
       "0    331.535957\n",
       "1    334.965150\n",
       "Name: checkout_price, dtype: float64"
      ]
     },
     "execution_count": 134,
     "metadata": {},
     "output_type": "execute_result"
    }
   ],
   "source": [
    "deliveries.groupby('emailer')['checkout_price'].mean()"
   ]
  },
  {
   "cell_type": "code",
   "execution_count": 133,
   "metadata": {},
   "outputs": [
    {
     "data": {
      "text/plain": [
       "featured\n",
       "0    334.799089\n",
       "1    307.656568\n",
       "Name: checkout_price, dtype: float64"
      ]
     },
     "execution_count": 133,
     "metadata": {},
     "output_type": "execute_result"
    }
   ],
   "source": [
    "deliveries.groupby('featured')['checkout_price'].mean()"
   ]
  },
  {
   "cell_type": "code",
   "execution_count": 135,
   "metadata": {},
   "outputs": [
    {
     "data": {
      "text/plain": [
       "cuisine      featured\n",
       "Continental  0           526.338775\n",
       "             1           454.641319\n",
       "Indian       0           345.826764\n",
       "             1           279.654921\n",
       "Italian      0           284.824369\n",
       "             1           287.741843\n",
       "Thai         0           217.105684\n",
       "             1           188.982456\n",
       "Name: checkout_price, dtype: float64"
      ]
     },
     "execution_count": 135,
     "metadata": {},
     "output_type": "execute_result"
    }
   ],
   "source": [
    "deliveries.groupby(['cuisine' ,'featured'])['checkout_price'].mean()"
   ]
  },
  {
   "cell_type": "code",
   "execution_count": 136,
   "metadata": {},
   "outputs": [
    {
     "data": {
      "text/plain": [
       "cuisine      emailer\n",
       "Continental  0          527.139763\n",
       "             1          456.456083\n",
       "Indian       0          346.162812\n",
       "             1          248.123665\n",
       "Italian      0          289.273436\n",
       "             1          240.284798\n",
       "Thai         0          214.477296\n",
       "             1          175.864522\n",
       "Name: checkout_price, dtype: float64"
      ]
     },
     "execution_count": 136,
     "metadata": {},
     "output_type": "execute_result"
    }
   ],
   "source": [
    "deliveries.groupby(['cuisine' ,'emailer'])['checkout_price'].mean()"
   ]
  },
  {
   "cell_type": "code",
   "execution_count": 137,
   "metadata": {},
   "outputs": [
    {
     "data": {
      "text/plain": [
       "center_type  featured\n",
       "A            0           336.149406\n",
       "             1           305.824217\n",
       "B            0           340.592779\n",
       "             1           312.866322\n",
       "C            0           325.971412\n",
       "             1           307.954944\n",
       "Name: checkout_price, dtype: float64"
      ]
     },
     "execution_count": 137,
     "metadata": {},
     "output_type": "execute_result"
    }
   ],
   "source": [
    "deliveries.groupby(['center_type' ,'featured'])['checkout_price'].mean()"
   ]
  },
  {
   "cell_type": "code",
   "execution_count": 138,
   "metadata": {},
   "outputs": [
    {
     "data": {
      "text/plain": [
       "center_type  emailer\n",
       "A            0          332.377266\n",
       "             1          335.054410\n",
       "B            0          337.945807\n",
       "             1          332.755110\n",
       "C            0          323.189273\n",
       "             1          336.621376\n",
       "Name: checkout_price, dtype: float64"
      ]
     },
     "execution_count": 138,
     "metadata": {},
     "output_type": "execute_result"
    }
   ],
   "source": [
    "deliveries.groupby(['center_type' ,'emailer'])['checkout_price'].mean()"
   ]
  },
  {
   "cell_type": "code",
   "execution_count": 145,
   "metadata": {},
   "outputs": [
    {
     "data": {
      "text/plain": [
       "category      featured\n",
       "Beverages     0            272.761622\n",
       "              1            662.730711\n",
       "Biryani       0             30.750195\n",
       "              1             31.781250\n",
       "Desert        0             61.561169\n",
       "              1             99.127134\n",
       "Extras        0            293.132205\n",
       "              1            364.040323\n",
       "Fish          0             79.625103\n",
       "              1            233.797030\n",
       "Other Snacks  0            135.763545\n",
       "              1            300.420580\n",
       "Pasta         0             54.879593\n",
       "              1             85.356545\n",
       "Pizza         0            163.089360\n",
       "              1            428.089343\n",
       "Rice Bowl     0            512.911656\n",
       "              1           1724.099806\n",
       "Salad         0            332.190119\n",
       "              1           1141.430995\n",
       "Sandwich      0            407.117315\n",
       "              1           1465.748958\n",
       "Seafood       0             71.981024\n",
       "              1            277.533026\n",
       "Soup          0             79.211526\n",
       "              1            149.478992\n",
       "Starters      0            144.785432\n",
       "              1            276.705283\n",
       "Name: orders, dtype: float64"
      ]
     },
     "execution_count": 145,
     "metadata": {},
     "output_type": "execute_result"
    }
   ],
   "source": [
    "deliveries.groupby(['category' ,'featured'])['orders'].mean()"
   ]
  },
  {
   "cell_type": "code",
   "execution_count": 140,
   "metadata": {},
   "outputs": [
    {
     "data": {
      "text/plain": [
       "emailer\n",
       "0    229.418733\n",
       "1    632.773929\n",
       "Name: orders, dtype: float64"
      ]
     },
     "execution_count": 140,
     "metadata": {},
     "output_type": "execute_result"
    }
   ],
   "source": [
    "deliveries.groupby(['emailer'])['orders'].mean()\n"
   ]
  },
  {
   "cell_type": "code",
   "execution_count": 142,
   "metadata": {},
   "outputs": [
    {
     "data": {
      "text/plain": [
       "featured\n",
       "0    220.872674\n",
       "1    596.405625\n",
       "Name: orders, dtype: float64"
      ]
     },
     "execution_count": 142,
     "metadata": {},
     "output_type": "execute_result"
    }
   ],
   "source": [
    "deliveries.groupby(['featured'])['orders'].mean()\n"
   ]
  },
  {
   "cell_type": "code",
   "execution_count": 141,
   "metadata": {},
   "outputs": [
    {
     "data": {
      "text/plain": [
       "emailer\n",
       "0    48118285\n",
       "1    11727832\n",
       "Name: orders, dtype: int64"
      ]
     },
     "execution_count": 141,
     "metadata": {},
     "output_type": "execute_result"
    }
   ],
   "source": [
    "deliveries.groupby(['emailer'])['orders'].sum()"
   ]
  },
  {
   "cell_type": "code",
   "execution_count": 143,
   "metadata": {},
   "outputs": [
    {
     "data": {
      "text/plain": [
       "featured\n",
       "0    44875143\n",
       "1    14970974\n",
       "Name: orders, dtype: int64"
      ]
     },
     "execution_count": 143,
     "metadata": {},
     "output_type": "execute_result"
    }
   ],
   "source": [
    "deliveries.groupby(['featured'])['orders'].sum()\n"
   ]
  }
 ],
 "metadata": {
  "kernelspec": {
   "display_name": "Python 3.10.6 64-bit",
   "language": "python",
   "name": "python3"
  },
  "language_info": {
   "codemirror_mode": {
    "name": "ipython",
    "version": 3
   },
   "file_extension": ".py",
   "mimetype": "text/x-python",
   "name": "python",
   "nbconvert_exporter": "python",
   "pygments_lexer": "ipython3",
   "version": "3.10.6"
  },
  "orig_nbformat": 4,
  "vscode": {
   "interpreter": {
    "hash": "428a2680e134346dc6a50eeb15b5601ea447c297abbe5316187818ea532ba498"
   }
  }
 },
 "nbformat": 4,
 "nbformat_minor": 2
}
